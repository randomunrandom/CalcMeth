{
 "cells": [
  {
   "cell_type": "code",
   "execution_count": 15,
   "metadata": {
    "pycharm": {
     "is_executing": false
    }
   },
   "outputs": [],
   "source": [
    "from numpy import pi, sin, cos\n",
    "\n",
    "from prettytable import PrettyTable\n",
    "\n",
    "import matplotlib.pyplot as plt\n",
    "import matplotlib.image as mpimg"
   ]
  },
  {
   "cell_type": "code",
   "execution_count": 16,
   "metadata": {
    "collapsed": false,
    "jupyter": {
     "outputs_hidden": false
    },
    "pycharm": {
     "is_executing": false,
     "name": "#%%\n"
    }
   },
   "outputs": [
    {
     "name": "stdout",
     "output_type": "stream",
     "text": [
      "a: 0\n",
      "b: 3.141592653589793\n",
      "N: 100\n"
     ]
    }
   ],
   "source": [
    "a = 0\n",
    "b = pi\n",
    "\n",
    "def f(x):\n",
    "    return sin(x)\n",
    "\n",
    "def divide_evenly(a, b, len):\n",
    "    # n-1 bc: | 1 | 2 | 3 | - we divide on 4 points with 3 steps\n",
    "    step = (b-a)/(len-1)\n",
    "    return [a+i*step for i in range(len)] \n",
    "\n",
    "n = int(input('N'))\n",
    "print(f'a: {a}\\nb: {b}\\nN: {n}')"
   ]
  },
  {
   "cell_type": "code",
   "execution_count": 17,
   "metadata": {
    "pycharm": {
     "is_executing": false
    }
   },
   "outputs": [
    {
     "data": {
      "text/plain": [
       "[0.0,\n",
       " 0.03173325912716963,\n",
       " 0.06346651825433926,\n",
       " 0.0951997773815089,\n",
       " 0.12693303650867852,\n",
       " 0.15866629563584814,\n",
       " 0.1903995547630178,\n",
       " 0.2221328138901874,\n",
       " 0.25386607301735703,\n",
       " 0.28559933214452665,\n",
       " 0.3173325912716963,\n",
       " 0.3490658503988659,\n",
       " 0.3807991095260356,\n",
       " 0.4125323686532052,\n",
       " 0.4442656277803748,\n",
       " 0.47599888690754444,\n",
       " 0.5077321460347141,\n",
       " 0.5394654051618837,\n",
       " 0.5711986642890533,\n",
       " 0.6029319234162229,\n",
       " 0.6346651825433925,\n",
       " 0.6663984416705622,\n",
       " 0.6981317007977318,\n",
       " 0.7298649599249014,\n",
       " 0.7615982190520711,\n",
       " 0.7933314781792408,\n",
       " 0.8250647373064104,\n",
       " 0.85679799643358,\n",
       " 0.8885312555607496,\n",
       " 0.9202645146879193,\n",
       " 0.9519977738150889,\n",
       " 0.9837310329422585,\n",
       " 1.0154642920694281,\n",
       " 1.0471975511965979,\n",
       " 1.0789308103237674,\n",
       " 1.110664069450937,\n",
       " 1.1423973285781066,\n",
       " 1.1741305877052763,\n",
       " 1.2058638468324459,\n",
       " 1.2375971059596156,\n",
       " 1.269330365086785,\n",
       " 1.3010636242139548,\n",
       " 1.3327968833411243,\n",
       " 1.364530142468294,\n",
       " 1.3962634015954636,\n",
       " 1.4279966607226333,\n",
       " 1.4597299198498028,\n",
       " 1.4914631789769726,\n",
       " 1.5231964381041423,\n",
       " 1.5549296972313118,\n",
       " 1.5866629563584815,\n",
       " 1.618396215485651,\n",
       " 1.6501294746128208,\n",
       " 1.6818627337399903,\n",
       " 1.71359599286716,\n",
       " 1.7453292519943295,\n",
       " 1.7770625111214993,\n",
       " 1.8087957702486688,\n",
       " 1.8405290293758385,\n",
       " 1.872262288503008,\n",
       " 1.9039955476301778,\n",
       " 1.9357288067573473,\n",
       " 1.967462065884517,\n",
       " 1.9991953250116865,\n",
       " 2.0309285841388562,\n",
       " 2.0626618432660258,\n",
       " 2.0943951023931957,\n",
       " 2.126128361520365,\n",
       " 2.1578616206475347,\n",
       " 2.1895948797747042,\n",
       " 2.221328138901874,\n",
       " 2.2530613980290437,\n",
       " 2.284794657156213,\n",
       " 2.3165279162833827,\n",
       " 2.3482611754105527,\n",
       " 2.379994434537722,\n",
       " 2.4117276936648917,\n",
       " 2.443460952792061,\n",
       " 2.475194211919231,\n",
       " 2.5069274710464007,\n",
       " 2.53866073017357,\n",
       " 2.57039398930074,\n",
       " 2.6021272484279097,\n",
       " 2.633860507555079,\n",
       " 2.6655937666822487,\n",
       " 2.6973270258094186,\n",
       " 2.729060284936588,\n",
       " 2.7607935440637577,\n",
       " 2.792526803190927,\n",
       " 2.824260062318097,\n",
       " 2.8559933214452666,\n",
       " 2.887726580572436,\n",
       " 2.9194598396996057,\n",
       " 2.9511930988267756,\n",
       " 2.982926357953945,\n",
       " 3.0146596170811146,\n",
       " 3.0463928762082846,\n",
       " 3.078126135335454,\n",
       " 3.1098593944626236,\n",
       " 3.141592653589793]"
      ]
     },
     "execution_count": 17,
     "metadata": {},
     "output_type": "execute_result"
    }
   ],
   "source": [
    "x_list = divide_evenly(a, b, n)\n",
    "x_list"
   ]
  },
  {
   "cell_type": "code",
   "execution_count": 18,
   "metadata": {
    "pycharm": {
     "is_executing": false
    }
   },
   "outputs": [
    {
     "data": {
      "text/plain": [
       "[0.0,\n",
       " 0.03172793349806765,\n",
       " 0.0634239196565645,\n",
       " 0.09505604330418267,\n",
       " 0.12659245357374926,\n",
       " 0.1580013959733499,\n",
       " 0.18925124436041021,\n",
       " 0.22031053278654064,\n",
       " 0.2511479871810792,\n",
       " 0.28173255684142967,\n",
       " 0.3120334456984871,\n",
       " 0.3420201433256687,\n",
       " 0.3716624556603276,\n",
       " 0.4009305354066137,\n",
       " 0.42979491208917164,\n",
       " 0.4582265217274104,\n",
       " 0.4861967361004687,\n",
       " 0.5136773915734063,\n",
       " 0.5406408174555976,\n",
       " 0.5670598638627707,\n",
       " 0.5929079290546404,\n",
       " 0.6181589862206052,\n",
       " 0.6427876096865393,\n",
       " 0.6667690005162916,\n",
       " 0.690079011482112,\n",
       " 0.7126941713788629,\n",
       " 0.7345917086575333,\n",
       " 0.7557495743542583,\n",
       " 0.7761464642917568,\n",
       " 0.7957618405308321,\n",
       " 0.8145759520503357,\n",
       " 0.8325698546347714,\n",
       " 0.8497254299495144,\n",
       " 0.8660254037844387,\n",
       " 0.8814533634475821,\n",
       " 0.8959937742913359,\n",
       " 0.9096319953545183,\n",
       " 0.9223542941045815,\n",
       " 0.9341478602651067,\n",
       " 0.9450008187146685,\n",
       " 0.9549022414440739,\n",
       " 0.963842158559942,\n",
       " 0.9718115683235417,\n",
       " 0.9788024462147787,\n",
       " 0.984807753012208,\n",
       " 0.9898214418809327,\n",
       " 0.9938384644612541,\n",
       " 0.9968547759519424,\n",
       " 0.998867339183008,\n",
       " 0.9998741276738751,\n",
       " 0.9998741276738751,\n",
       " 0.998867339183008,\n",
       " 0.9968547759519424,\n",
       " 0.9938384644612541,\n",
       " 0.9898214418809327,\n",
       " 0.984807753012208,\n",
       " 0.9788024462147787,\n",
       " 0.9718115683235417,\n",
       " 0.963842158559942,\n",
       " 0.9549022414440739,\n",
       " 0.9450008187146685,\n",
       " 0.9341478602651068,\n",
       " 0.9223542941045814,\n",
       " 0.9096319953545184,\n",
       " 0.8959937742913359,\n",
       " 0.8814533634475821,\n",
       " 0.8660254037844385,\n",
       " 0.8497254299495143,\n",
       " 0.8325698546347714,\n",
       " 0.8145759520503358,\n",
       " 0.795761840530832,\n",
       " 0.7761464642917568,\n",
       " 0.7557495743542583,\n",
       " 0.7345917086575334,\n",
       " 0.7126941713788627,\n",
       " 0.6900790114821119,\n",
       " 0.6667690005162917,\n",
       " 0.6427876096865395,\n",
       " 0.6181589862206051,\n",
       " 0.5929079290546404,\n",
       " 0.5670598638627709,\n",
       " 0.5406408174555974,\n",
       " 0.5136773915734063,\n",
       " 0.4861967361004687,\n",
       " 0.4582265217274105,\n",
       " 0.4297949120891714,\n",
       " 0.4009305354066136,\n",
       " 0.3716624556603276,\n",
       " 0.3420201433256689,\n",
       " 0.31203344569848696,\n",
       " 0.28173255684142967,\n",
       " 0.2511479871810793,\n",
       " 0.2203105327865408,\n",
       " 0.18925124436041008,\n",
       " 0.1580013959733499,\n",
       " 0.12659245357374938,\n",
       " 0.09505604330418244,\n",
       " 0.0634239196565644,\n",
       " 0.031727933498067656,\n",
       " 1.2246467991473532e-16]"
      ]
     },
     "execution_count": 18,
     "metadata": {},
     "output_type": "execute_result"
    }
   ],
   "source": [
    "y_list = [f(x) for x in x_list]\n",
    "y_list"
   ]
  },
  {
   "cell_type": "code",
   "execution_count": 19,
   "metadata": {
    "pycharm": {
     "is_executing": false,
     "name": "#%%\n"
    }
   },
   "outputs": [
    {
     "data": {
      "text/plain": [
       "1.9998321638939918"
      ]
     },
     "execution_count": 19,
     "metadata": {},
     "output_type": "execute_result"
    }
   ],
   "source": [
    "# Интеграл методом прямоугольников (левых)\n",
    "def integral_rectangle_left(x_vals, f):\n",
    "    h = x_vals[1] - x_vals[0]\n",
    "    res = sum([f(x) * h for x in x_vals[:-1]])\n",
    "    return res\n",
    "\n",
    "int_l = integral_rectangle_left(x_list, f)\n",
    "int_l"
   ]
  },
  {
   "cell_type": "code",
   "execution_count": 20,
   "metadata": {
    "collapsed": false,
    "jupyter": {
     "outputs_hidden": false
    },
    "pycharm": {
     "is_executing": false,
     "name": "#%%\n"
    }
   },
   "outputs": [
    {
     "data": {
      "text/plain": [
       "1.9998321638939918"
      ]
     },
     "execution_count": 20,
     "metadata": {},
     "output_type": "execute_result"
    }
   ],
   "source": [
    "# Интеграл методом прямоугольников (правых)\n",
    "def integral_rectangle_right(x_vals, f):\n",
    "    h = x_vals[1] - x_vals[0]\n",
    "    res = sum([f(x) * h for x in x_vals[1:]])\n",
    "    return res\n",
    "\n",
    "int_r = integral_rectangle_right(x_list, f)\n",
    "int_r"
   ]
  },
  {
   "cell_type": "code",
   "execution_count": 21,
   "metadata": {
    "collapsed": false,
    "jupyter": {
     "outputs_hidden": false
    },
    "pycharm": {
     "is_executing": false,
     "name": "#%%\n"
    }
   },
   "outputs": [
    {
     "data": {
      "text/plain": [
       "2.0000839191093363"
      ]
     },
     "execution_count": 21,
     "metadata": {},
     "output_type": "execute_result"
    }
   ],
   "source": [
    "# Интеграл методом прямоугольников (центральных)\n",
    "def integral_rectangle_central(x_vals, f):\n",
    "    h = x_vals[1] - x_vals[0]\n",
    "    hh = h/2 # half h\n",
    "    res = sum([f(x+hh) * h for x in x_vals[:-1]])\n",
    "    return res\n",
    "\n",
    "int_c = integral_rectangle_central(x_list, f)\n",
    "int_c"
   ]
  },
  {
   "cell_type": "code",
   "execution_count": 22,
   "metadata": {
    "pycharm": {
     "is_executing": false
    }
   },
   "outputs": [
    {
     "data": {
      "text/plain": [
       "1.9998321638939935"
      ]
     },
     "execution_count": 22,
     "metadata": {},
     "output_type": "execute_result"
    }
   ],
   "source": [
    "# Интеграл методом трапеции\n",
    "def integral_trapezoidal(x_vals, f):\n",
    "    y_vals = [f(x) for x in x_vals]\n",
    "    h = x_vals[1] - x_vals[0]\n",
    "    hh = h/2 # half h\n",
    "    res = sum([hh*(y_vals[i] + y_vals[i+1]) for i in range(len(y_vals)-1)])\n",
    "    return res\n",
    "\n",
    "int_t = integral_trapezoidal(x_list, f)\n",
    "int_t"
   ]
  },
  {
   "cell_type": "code",
   "execution_count": 23,
   "metadata": {
    "pycharm": {
     "is_executing": false
    }
   },
   "outputs": [
    {
     "data": {
      "text/plain": [
       "1.9998321638939922"
      ]
     },
     "execution_count": 23,
     "metadata": {},
     "output_type": "execute_result"
    }
   ],
   "source": [
    "# Интеграл методом Симпсона\n",
    "def integral_simpson(x_vals, f):\n",
    "    h = x_vals[1] - x_vals[0]\n",
    "    assert len(x_vals) % 2 == 0, \"n must be even\"\n",
    "    res = h/3 * sum([f(x_vals[i]) * (\n",
    "      1 if (i == 0 or i == (len(x_vals) - 1)) else \n",
    "      4 if i % 2 == 1 else \n",
    "      2\n",
    "    ) for i in range(len(x_vals))])\n",
    "    return res\n",
    "\n",
    "int_s = integral_simpson(x_list, f)\n",
    "int_s"
   ]
  },
  {
   "cell_type": "code",
   "execution_count": 24,
   "metadata": {
    "pycharm": {
     "is_executing": false
    }
   },
   "outputs": [
    {
     "name": "stdout",
     "output_type": "stream",
     "text": [
      "n =  100\n",
      "int_l =  1.9998321638939918 err =  0.0001678361060082345\n",
      "int_r =  1.9998321638939918 err =  0.0001678361060082345\n",
      "int_c =  2.0000839191093363 err =  8.391910933625013e-05\n",
      "int_t =  1.9998321638939935 err =  0.00016783610600645815\n",
      "int_s =  1.9998321638939922 err =  0.00016783610600779042\n",
      "integral_0^π (sin^2(x cos(2 x)))/(5 + x^2)^2 dx = 0.0206178\n"
     ]
    },
    {
     "data": {
      "image/png": "[encoded data removed]",
      "text/plain": [
       "<Figure size 1296x432 with 1 Axes>"
      ]
     },
     "metadata": {
      "needs_background": "light"
     },
     "output_type": "display_data"
    }
   ],
   "source": [
    "def err(val):\n",
    "  return abs(val-2)\n",
    "\n",
    "print('n = ', n)\n",
    "print('int_l = ', int_l, 'err = ', err(int_l))\n",
    "print('int_r = ', int_r, 'err = ', err(int_r))\n",
    "print('int_c = ', int_c, 'err = ', err(int_c))\n",
    "print('int_t = ', int_t, 'err = ', err(int_t))\n",
    "print('int_s = ', int_s, 'err = ', err(int_s))\n",
    "print('integral_0^π (sin^2(x cos(2 x)))/(5 + x^2)^2 dx = 0.0206178')\n",
    "\n",
    "fig = plt.figure(figsize=(18,6))\n",
    "axes= fig.add_axes([0.1,0.1,0.8,0.8])\n",
    "img=mpimg.imread('img/wolf_int.png')\n",
    "plt.imshow(img)\n",
    "plt.show()"
   ]
  },
  {
   "cell_type": "code",
   "execution_count": 25,
   "metadata": {
    "pycharm": {
     "is_executing": false,
     "name": "#%%\n"
    }
   },
   "outputs": [
    {
     "data": {
      "image/png": "[encoded data removed]",
      "text/plain": [
       "<Figure size 432x288 with 1 Axes>"
      ]
     },
     "metadata": {
      "needs_background": "light"
     },
     "output_type": "display_data"
    }
   ],
   "source": [
    "plt.plot(x_list, y_list, color='b')\n",
    "plt.xlabel('x label')\n",
    "plt.ylabel('y label')\n",
    "plt.xticks(x_list)\n",
    "plt.grid(which='both', axis='x', color='black')\n",
    "plt.axhline(y=0, color='k')\n",
    "plt.axvline(x=0, color='k')\n",
    "plt.show()"
   ]
  },
  {
   "cell_type": "code",
   "execution_count": null,
   "metadata": {
    "collapsed": false,
    "jupyter": {
     "outputs_hidden": false
    },
    "pycharm": {
     "name": "#%%\n"
    }
   },
   "outputs": [],
   "source": [
    "\n",
    "\n",
    "\n",
    "\n"
   ]
  }
 ],
 "metadata": {
  "kernelspec": {
   "display_name": "Python 3",
   "language": "python",
   "name": "python3"
  },
  "language_info": {
   "codemirror_mode": {
    "name": "ipython",
    "version": 3
   },
   "file_extension": ".py",
   "mimetype": "text/x-python",
   "name": "python",
   "nbconvert_exporter": "python",
   "pygments_lexer": "ipython3",
   "version": "3.6.4"
  },
  "pycharm": {
   "stem_cell": {
    "cell_type": "raw",
    "metadata": {
     "collapsed": false
    },
    "source": []
   }
  }
 },
 "nbformat": 4,
 "nbformat_minor": 4
}
